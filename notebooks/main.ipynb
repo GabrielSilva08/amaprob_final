{
 "cells": [
  {
   "cell_type": "markdown",
   "metadata": {},
   "source": [
    "# Projeto Final - AMAP - 2024.2"
   ]
  },
  {
   "cell_type": "markdown",
   "metadata": {},
   "source": [
    "## 1. Importação das Bibliotecas"
   ]
  },
  {
   "cell_type": "code",
   "execution_count": 9,
   "metadata": {},
   "outputs": [],
   "source": [
    "import sys\n",
    "sys.path.append(\"..\")\n",
    "import torch\n",
    "from torch.utils.data import DataLoader\n",
    "from torch.optim.adam import Adam\n",
    "import matplotlib.pyplot as plt\n",
    "#from src.models import vae\n",
    "#from src.data.dataloader import load_data"
   ]
  },
  {
   "cell_type": "code",
   "execution_count": 15,
   "metadata": {},
   "outputs": [],
   "source": [
    "from src.utils.metrics import VAELoss\n",
    "from src.utils.utils import train, save_sample\n",
    "from src.data.data import LoFiDataset\n",
    "from src.models.vae import DenseVAE, Conv1DVAE"
   ]
  },
  {
   "cell_type": "code",
   "execution_count": 5,
   "metadata": {},
   "outputs": [
    {
     "name": "stdout",
     "output_type": "stream",
     "text": [
      "cpu\n"
     ]
    }
   ],
   "source": [
    "device = 'cuda' if torch.cuda.is_available() else 'cpu'\n",
    "print(device)"
   ]
  },
  {
   "cell_type": "markdown",
   "metadata": {},
   "source": [
    "## 2. Carregamento dos Dados"
   ]
  },
  {
   "cell_type": "code",
   "execution_count": 19,
   "metadata": {},
   "outputs": [],
   "source": [
    "dataset = LoFiDataset('../data/raw')"
   ]
  },
  {
   "cell_type": "code",
   "execution_count": 10,
   "metadata": {},
   "outputs": [],
   "source": [
    "batch_size = 32\n",
    "train_loader = DataLoader(dataset=dataset, batch_size=batch_size, shuffle=True)"
   ]
  },
  {
   "cell_type": "markdown",
   "metadata": {},
   "source": [
    "## 3. Instanciação do Modelo"
   ]
  },
  {
   "cell_type": "code",
   "execution_count": 13,
   "metadata": {},
   "outputs": [],
   "source": [
    "model = Conv1DVAE(2, 2, 32921, 2, 400, 100, 4, 2, device).to(device)\n",
    "optimizer = Adam(model.parameters(), lr=1e-3)\n",
    "loss_function = VAELoss()"
   ]
  },
  {
   "cell_type": "code",
   "execution_count": 14,
   "metadata": {},
   "outputs": [
    {
     "data": {
      "text/plain": [
       "Conv1DVAE(\n",
       "  (encoder): Conv1DEncoder(\n",
       "    (block): Sequential(\n",
       "      (0): Conv1d(1, 4, kernel_size=(3,), stride=(2,), padding=(1,))\n",
       "      (1): LeakyReLU(negative_slope=0.2)\n",
       "      (2): Conv1d(4, 8, kernel_size=(3,), stride=(2,), padding=(1,))\n",
       "      (3): LeakyReLU(negative_slope=0.2)\n",
       "      (4): Flatten(start_dim=1, end_dim=-1)\n",
       "      (5): DenseEncoder(\n",
       "        (block): Sequential(\n",
       "          (0): Linear(in_features=65848, out_features=400, bias=True)\n",
       "          (1): LeakyReLU(negative_slope=0.2)\n",
       "          (2): Linear(in_features=400, out_features=100, bias=True)\n",
       "          (3): LeakyReLU(negative_slope=0.2)\n",
       "        )\n",
       "      )\n",
       "    )\n",
       "  )\n",
       "  (mean_layer): Linear(in_features=100, out_features=2, bias=True)\n",
       "  (logvar_layer): Linear(in_features=100, out_features=2, bias=True)\n",
       "  (decoder): Conv1DDecoder(\n",
       "    (block): Sequential(\n",
       "      (0): DenseDecoder(\n",
       "        (block): Sequential(\n",
       "          (0): Linear(in_features=2, out_features=100, bias=True)\n",
       "          (1): LeakyReLU(negative_slope=0.2)\n",
       "          (2): Linear(in_features=100, out_features=400, bias=True)\n",
       "          (3): LeakyReLU(negative_slope=0.2)\n",
       "          (4): Linear(in_features=400, out_features=65848, bias=True)\n",
       "          (5): LeakyReLU(negative_slope=0.2)\n",
       "        )\n",
       "      )\n",
       "      (1): DesFlatten()\n",
       "      (2): ConvTranspose1d(8, 4, kernel_size=(3,), stride=(2,), padding=(1,))\n",
       "      (3): LeakyReLU(negative_slope=0.2)\n",
       "      (4): ConvTranspose1d(4, 1, kernel_size=(3,), stride=(2,), padding=(1,))\n",
       "      (5): LeakyReLU(negative_slope=0.2)\n",
       "      (6): Flatten(start_dim=1, end_dim=-1)\n",
       "      (7): Tanh()\n",
       "    )\n",
       "  )\n",
       ")"
      ]
     },
     "execution_count": 14,
     "metadata": {},
     "output_type": "execute_result"
    }
   ],
   "source": [
    "model"
   ]
  },
  {
   "cell_type": "code",
   "execution_count": 18,
   "metadata": {},
   "outputs": [],
   "source": [
    "loss_curve = train(model, train_loader, loss_function, optimizer, epochs=100, device=device, save_path='best_model.pth')"
   ]
  },
  {
   "cell_type": "code",
   "execution_count": null,
   "metadata": {},
   "outputs": [],
   "source": [
    "plt.plot(loss_curve)"
   ]
  },
  {
   "cell_type": "code",
   "execution_count": null,
   "metadata": {},
   "outputs": [],
   "source": [
    "model.load_state_dict(torch.load('best_model.pth', weights_only=True))"
   ]
  },
  {
   "cell_type": "code",
   "execution_count": null,
   "metadata": {},
   "outputs": [],
   "source": [
    "a = model.sample(scale=2)\n",
    "b = save_sample(a, 'asd.wav')\n",
    "plt.plot(b[0])"
   ]
  }
 ],
 "metadata": {
  "kernelspec": {
   "display_name": "AMAP_Proj",
   "language": "python",
   "name": "python3"
  },
  "language_info": {
   "codemirror_mode": {
    "name": "ipython",
    "version": 3
   },
   "file_extension": ".py",
   "mimetype": "text/x-python",
   "name": "python",
   "nbconvert_exporter": "python",
   "pygments_lexer": "ipython3",
   "version": "3.11.10"
  }
 },
 "nbformat": 4,
 "nbformat_minor": 2
}
