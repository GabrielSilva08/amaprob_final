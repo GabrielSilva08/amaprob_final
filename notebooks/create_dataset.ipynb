{
 "cells": [
  {
   "cell_type": "code",
   "execution_count": 1,
   "metadata": {},
   "outputs": [],
   "source": [
    "# Importando funções do script make_dataset.py\n",
    "import sys\n",
    "import os\n",
    "sys.path.append(\"..\")\n",
    "from pathlib import Path\n",
    "from src.data.make_dataset import process_urls"
   ]
  },
  {
   "cell_type": "code",
   "execution_count": 2,
   "metadata": {},
   "outputs": [
    {
     "name": "stderr",
     "output_type": "stream",
     "text": [
      "Processando vídeos:   0%|          | 0/7 [00:00<?, ?it/s]"
     ]
    },
    {
     "name": "stdout",
     "output_type": "stream",
     "text": [
      "[youtube] Extracting URL: https://youtu.be/qlXoh54zock?si=mJPVAGZioQxXxN32\n",
      "[youtube] qlXoh54zock: Downloading webpage\n",
      "[youtube] Extracting URL: https://youtu.be/TUglN9EvnvI?si=NV6PjnobnGpF563O\n",
      "[youtube] Extracting URL: https://youtu.be/xKIdiGjQO0c?si=Bj0rcugJRCNa56uE\n",
      "[youtube] Extracting URL: https://youtu.be/ff5lO8TkVX8?si=FJeO8KJj3MPHCW0k\n",
      "[youtube] Extracting URL: https://www.youtube.com/live/e94hCLHEEsk?si=Viatfjausk5IPnOJ\n",
      "[youtube] xKIdiGjQO0c: Downloading webpage\n",
      "[youtube] TUglN9EvnvI: Downloading webpage\n",
      "[youtube] e94hCLHEEsk: Downloading webpage\n",
      "[youtube] ff5lO8TkVX8: Downloading webpage\n",
      "[youtube] xKIdiGjQO0c: Downloading ios player API JSON\n",
      "[youtube] e94hCLHEEsk: Downloading ios player API JSON\n",
      "[youtube] qlXoh54zock: Downloading ios player API JSON\n",
      "[youtube] ff5lO8TkVX8: Downloading ios player API JSON\n",
      "[youtube] xKIdiGjQO0c: Downloading mweb player API JSON\n",
      "[youtube] qlXoh54zock: Downloading mweb player API JSON\n",
      "[youtube] TUglN9EvnvI: Downloading ios player API JSON\n",
      "[youtube] e94hCLHEEsk: Downloading mweb player API JSON\n",
      "[youtube] ff5lO8TkVX8: Downloading mweb player API JSON\n",
      "[youtube] TUglN9EvnvI: Downloading mweb player API JSON\n",
      "[youtube] xKIdiGjQO0c: Downloading m3u8 information\n",
      "[youtube] TUglN9EvnvI: Downloading m3u8 information\n",
      "[youtube] qlXoh54zock: Downloading m3u8 information\n",
      "[youtube] e94hCLHEEsk: Downloading m3u8 information\n",
      "[info] xKIdiGjQO0c: Downloading 1 format(s): 251\n",
      "[info] TUglN9EvnvI: Downloading 1 format(s): 251\n",
      "[info] qlXoh54zock: Downloading 1 format(s): 251\n",
      "[info] e94hCLHEEsk: Downloading 1 format(s): 251\n",
      "[youtube] ff5lO8TkVX8: Downloading m3u8 information\n",
      "[info] ff5lO8TkVX8: Downloading 1 format(s): 251\n",
      "[download] Destination: c:\\Users\\Suporte\\Desktop\\UFC - 2024.2\\AMAP\\Projeto Final\\amaprob_final\\data\\raw\\Peaceful night on the rooftop with my cat • Lofi Hip Hop Mix 🐾 Chill Beats To Relax ⧸ Study To.webm\n",
      "[download]   0.0% of  720.37MiB at   49.73KiB/s ETA 04:07:13[download] Destination: c:\\Users\\Suporte\\Desktop\\UFC - 2024.2\\AMAP\\Projeto Final\\amaprob_final\\data\\raw\\ＳＬＥＥＰＹ 💤 Lofi hip hop mix - Beats to sleep⧸chill to ｜ Deep Sleeping Music.webm\n",
      "[download]   0.3% of    1.30GiB at    4.06MiB/s ETA 05:25   [download] Destination: c:\\Users\\Suporte\\Desktop\\UFC - 2024.2\\AMAP\\Projeto Final\\amaprob_final\\data\\raw\\Ultimate Lo-Fi Playlist 🎵 10 Hours of Chill & Relaxing Beats for Study & Focus.webm\n",
      "[download]   0.0% of  569.16MiB at    1.01MiB/s ETA 09:23   [download] Destination: c:\\Users\\Suporte\\Desktop\\UFC - 2024.2\\AMAP\\Projeto Final\\amaprob_final\\data\\raw\\Happy 2 C U - Lofi Hip Hop Mix 10 HOURS.webm\n",
      "[download]   2.7% of  720.37MiB at    2.87MiB/s ETA 04:03   [download] Destination: c:\\Users\\Suporte\\Desktop\\UFC - 2024.2\\AMAP\\Projeto Final\\amaprob_final\\data\\raw\\Night lullaby  - lofi hip hop mix 10 HOURS.webm\n",
      "[download] 100% of  569.16MiB in 00:07:52 at 1.20MiB/s      \n",
      "[download]  88.7% of  720.37MiB at    1.73MiB/s ETA 00:46  [ExtractAudio] Destination: c:\\Users\\Suporte\\Desktop\\UFC - 2024.2\\AMAP\\Projeto Final\\amaprob_final\\data\\raw\\Ultimate Lo-Fi Playlist 🎵 10 Hours of Chill & Relaxing Beats for Study & Focus.wav\n",
      "[download] 100% of  720.37MiB in 00:09:20 at 1.29MiB/s      \n",
      "[ExtractAudio] Destination: c:\\Users\\Suporte\\Desktop\\UFC - 2024.2\\AMAP\\Projeto Final\\amaprob_final\\data\\raw\\Peaceful night on the rooftop with my cat • Lofi Hip Hop Mix 🐾 Chill Beats To Relax ⧸ Study To.wav\n",
      "[download] 100% of  606.54MiB in 00:09:22 at 1.08MiB/s   \n",
      "[ExtractAudio] Destination: c:\\Users\\Suporte\\Desktop\\UFC - 2024.2\\AMAP\\Projeto Final\\amaprob_final\\data\\raw\\Happy 2 C U - Lofi Hip Hop Mix 10 HOURS.wav\n",
      "[download] 100% of  623.34MiB in 00:09:28 at 1.10MiB/s     \n",
      "[ExtractAudio] Destination: c:\\Users\\Suporte\\Desktop\\UFC - 2024.2\\AMAP\\Projeto Final\\amaprob_final\\data\\raw\\Night lullaby  - lofi hip hop mix 10 HOURS.wav\n",
      "[download] 100% of    1.30GiB in 00:10:46 at 2.05MiB/s     \n",
      "[ExtractAudio] Destination: c:\\Users\\Suporte\\Desktop\\UFC - 2024.2\\AMAP\\Projeto Final\\amaprob_final\\data\\raw\\ＳＬＥＥＰＹ 💤 Lofi hip hop mix - Beats to sleep⧸chill to ｜ Deep Sleeping Music.wav\n",
      "Deleting original file c:\\Users\\Suporte\\Desktop\\UFC - 2024.2\\AMAP\\Projeto Final\\amaprob_final\\data\\raw\\Ultimate Lo-Fi Playlist 🎵 10 Hours of Chill & Relaxing Beats for Study & Focus.webm (pass -k to keep)\n"
     ]
    },
    {
     "name": "stderr",
     "output_type": "stream",
     "text": [
      "Processando vídeos:  14%|█▍        | 1/7 [14:15<1:25:35, 855.90s/it]"
     ]
    },
    {
     "name": "stdout",
     "output_type": "stream",
     "text": [
      "[youtube] Extracting URL: https://youtu.be/5l8khj88MFQ?si=lAVaO3TbTwL7HZGJ\n",
      "[youtube] 5l8khj88MFQ: Downloading webpage\n",
      "[youtube] 5l8khj88MFQ: Downloading ios player API JSON\n",
      "[youtube] 5l8khj88MFQ: Downloading mweb player API JSON\n",
      "[youtube] 5l8khj88MFQ: Downloading m3u8 information\n",
      "[info] 5l8khj88MFQ: Downloading 1 format(s): 251\n",
      "[download] Destination: c:\\Users\\Suporte\\Desktop\\UFC - 2024.2\\AMAP\\Projeto Final\\amaprob_final\\data\\raw\\3 A.M Study Session  - [lofi hip hopchill beats]  🔥 10 HOURS 🔥.webm\n",
      "[download]  24.4% of  600.62MiB at    1.39MiB/s ETA 05:26   Deleting original file c:\\Users\\Suporte\\Desktop\\UFC - 2024.2\\AMAP\\Projeto Final\\amaprob_final\\data\\raw\\Happy 2 C U - Lofi Hip Hop Mix 10 HOURS.webm (pass -k to keep)\n",
      "[download]  30.3% of  600.62MiB at    3.90MiB/s ETA 01:47  Deleting original file c:\\Users\\Suporte\\Desktop\\UFC - 2024.2\\AMAP\\Projeto Final\\amaprob_final\\data\\raw\\Night lullaby  - lofi hip hop mix 10 HOURS.webm (pass -k to keep)\n",
      "[download]  32.4% of  600.62MiB at    2.90MiB/s ETA 02:19  "
     ]
    },
    {
     "name": "stderr",
     "output_type": "stream",
     "text": [
      "Processando vídeos:  29%|██▊       | 2/7 [15:50<33:59, 407.93s/it]  "
     ]
    },
    {
     "name": "stdout",
     "output_type": "stream",
     "text": [
      "[download]  32.4% of  600.62MiB at   63.18KiB/s ETA 01:49:38[youtube] Extracting URL: https://youtu.be/qlXoh54zock?si=Jb5_q6lA8jTe-XrV\n",
      "[youtube] qlXoh54zock: Downloading webpage\n",
      "[download]  33.8% of  600.62MiB at    4.86MiB/s ETA 01:21   [youtube] qlXoh54zock: Downloading ios player API JSON\n",
      "[download]  34.0% of  600.62MiB at    4.90MiB/s ETA 01:20[youtube] qlXoh54zock: Downloading mweb player API JSON\n",
      "[download]  34.1% of  600.62MiB at    1.20MiB/s ETA 05:30   Deleting original file c:\\Users\\Suporte\\Desktop\\UFC - 2024.2\\AMAP\\Projeto Final\\amaprob_final\\data\\raw\\Peaceful night on the rooftop with my cat • Lofi Hip Hop Mix 🐾 Chill Beats To Relax ⧸ Study To.webm (pass -k to keep)\n",
      "[download]  34.4% of  600.62MiB at  391.44KiB/s ETA 17:09[youtube] qlXoh54zock: Downloading m3u8 information\n",
      "[download]  35.2% of  600.62MiB at  966.89KiB/s ETA 06:51[info] qlXoh54zock: Downloading 1 format(s): 251\n",
      "[download]  35.8% of  600.62MiB at    3.07MiB/s ETA 02:05  [download] Destination: c:\\Users\\Suporte\\Desktop\\UFC - 2024.2\\AMAP\\Projeto Final\\amaprob_final\\data\\raw\\Night lullaby  - lofi hip hop mix 10 HOURS.webm\n",
      "[download]   0.3% of  623.34MiB at    1.54MiB/s ETA 06:42   "
     ]
    },
    {
     "name": "stderr",
     "output_type": "stream",
     "text": [
      "Processando vídeos:  43%|████▎     | 3/7 [16:04<15:12, 228.05s/it]"
     ]
    },
    {
     "name": "stdout",
     "output_type": "stream",
     "text": [
      "[download]   3.3% of  623.34MiB at    1.63MiB/s ETA 06:10   "
     ]
    },
    {
     "name": "stderr",
     "output_type": "stream",
     "text": [
      "Processando vídeos:  57%|█████▋    | 4/7 [16:17<07:10, 143.40s/it]"
     ]
    },
    {
     "name": "stdout",
     "output_type": "stream",
     "text": [
      "[download]  96.7% of  600.62MiB at    1.46MiB/s ETA 00:13   Deleting original file c:\\Users\\Suporte\\Desktop\\UFC - 2024.2\\AMAP\\Projeto Final\\amaprob_final\\data\\raw\\ＳＬＥＥＰＹ 💤 Lofi hip hop mix - Beats to sleep⧸chill to ｜ Deep Sleeping Music.webm (pass -k to keep)\n",
      "[download] 100% of  600.62MiB in 00:04:08 at 2.42MiB/s      \n",
      "[download]  58.5% of  623.34MiB at    2.12MiB/s ETA 02:01[ExtractAudio] Destination: c:\\Users\\Suporte\\Desktop\\UFC - 2024.2\\AMAP\\Projeto Final\\amaprob_final\\data\\raw\\3 A.M Study Session  - [lofi hip hopchill beats]  🔥 10 HOURS 🔥.wav\n",
      "[download]  81.2% of  623.34MiB at  627.89KiB/s ETA 03:11  "
     ]
    },
    {
     "name": "stderr",
     "output_type": "stream",
     "text": [
      "Processando vídeos:  71%|███████▏  | 5/7 [20:04<05:46, 173.28s/it]"
     ]
    },
    {
     "name": "stdout",
     "output_type": "stream",
     "text": [
      "[download] 100% of  623.34MiB in 00:04:31 at 2.30MiB/s     \n",
      "[ExtractAudio] Destination: c:\\Users\\Suporte\\Desktop\\UFC - 2024.2\\AMAP\\Projeto Final\\amaprob_final\\data\\raw\\Night lullaby  - lofi hip hop mix 10 HOURS.wav\n",
      "Deleting original file c:\\Users\\Suporte\\Desktop\\UFC - 2024.2\\AMAP\\Projeto Final\\amaprob_final\\data\\raw\\3 A.M Study Session  - [lofi hip hopchill beats]  🔥 10 HOURS 🔥.webm (pass -k to keep)\n"
     ]
    },
    {
     "name": "stderr",
     "output_type": "stream",
     "text": [
      "Processando vídeos:  86%|████████▌ | 6/7 [21:28<02:23, 143.01s/it]"
     ]
    },
    {
     "name": "stdout",
     "output_type": "stream",
     "text": [
      "Deleting original file c:\\Users\\Suporte\\Desktop\\UFC - 2024.2\\AMAP\\Projeto Final\\amaprob_final\\data\\raw\\Night lullaby  - lofi hip hop mix 10 HOURS.webm (pass -k to keep)\n"
     ]
    },
    {
     "name": "stderr",
     "output_type": "stream",
     "text": [
      "Processando vídeos: 100%|██████████| 7/7 [22:55<00:00, 196.49s/it]"
     ]
    },
    {
     "name": "stdout",
     "output_type": "stream",
     "text": [
      "Áudios extraídos: 373 segmentos.\n",
      "Áudios extraídos: 373 segmentos.\n",
      "Áudios extraídos: 373 segmentos.\n",
      "Áudios extraídos: 373 segmentos.\n",
      "Áudios extraídos: 373 segmentos.\n",
      "Áudios extraídos: 373 segmentos.\n",
      "Áudios extraídos: 373 segmentos.\n"
     ]
    },
    {
     "name": "stderr",
     "output_type": "stream",
     "text": [
      "\n"
     ]
    }
   ],
   "source": [
    "# Lista das URLs dos vídeos\n",
    "urls = [\"https://youtu.be/qlXoh54zock?si=mJPVAGZioQxXxN32\",\n",
    "        \"https://youtu.be/xKIdiGjQO0c?si=Bj0rcugJRCNa56uE\",\n",
    "         \"https://youtu.be/TUglN9EvnvI?si=NV6PjnobnGpF563O\",\n",
    "         \"https://youtu.be/ff5lO8TkVX8?si=FJeO8KJj3MPHCW0k\",\n",
    "         \"https://www.youtube.com/live/e94hCLHEEsk?si=Viatfjausk5IPnOJ\",\n",
    "         \"https://youtu.be/5l8khj88MFQ?si=lAVaO3TbTwL7HZGJ\",\n",
    "         \"https://youtu.be/qlXoh54zock?si=Jb5_q6lA8jTe-XrV\",]\n",
    "         \n",
    "results = process_urls(urls)\n",
    "\n",
    "for result in results:\n",
    "    if isinstance(result, list):\n",
    "        print(f\"Áudios extraídos: {len(result)} segmentos.\")\n",
    "    else:\n",
    "        print(result)"
   ]
  }
 ],
 "metadata": {
  "kernelspec": {
   "display_name": "AMAP_Proj",
   "language": "python",
   "name": "python3"
  },
  "language_info": {
   "codemirror_mode": {
    "name": "ipython",
    "version": 3
   },
   "file_extension": ".py",
   "mimetype": "text/x-python",
   "name": "python",
   "nbconvert_exporter": "python",
   "pygments_lexer": "ipython3",
   "version": "3.11.10"
  }
 },
 "nbformat": 4,
 "nbformat_minor": 2
}
