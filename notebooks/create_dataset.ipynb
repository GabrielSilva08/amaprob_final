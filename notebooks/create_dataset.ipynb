{
 "cells": [
  {
   "cell_type": "code",
   "execution_count": 1,
   "metadata": {},
   "outputs": [],
   "source": [
    "# Importando funções do script make_dataset.py\n",
    "import sys\n",
    "import os\n",
    "sys.path.append(\"..\")\n",
    "from pathlib import Path\n",
    "from src.data.make_dataset import process_urls"
   ]
  },
  {
   "cell_type": "code",
   "execution_count": 2,
   "metadata": {},
   "outputs": [
    {
     "name": "stderr",
     "output_type": "stream",
     "text": [
      "Processando vídeos:   0%|          | 0/7 [00:00<?, ?it/s]"
     ]
    },
    {
     "name": "stdout",
     "output_type": "stream",
     "text": [
      "[youtube] Extracting URL: https://youtu.be/xKIdiGjQO0c?si=Bj0rcugJRCNa56uE\n",
      "[youtube] Extracting URL: https://youtu.be/qlXoh54zock?si=mJPVAGZioQxXxN32\n",
      "[youtube] Extracting URL: https://www.youtube.com/live/e94hCLHEEsk?si=Viatfjausk5IPnOJ\n",
      "[youtube] xKIdiGjQO0c: Downloading webpage\n",
      "[youtube] Extracting URL: https://youtu.be/TUglN9EvnvI?si=NV6PjnobnGpF563O\n",
      "[youtube] Extracting URL: https://youtu.be/ff5lO8TkVX8?si=FJeO8KJj3MPHCW0k\n",
      "[youtube] qlXoh54zock: Downloading webpage\n",
      "[youtube] ff5lO8TkVX8: Downloading webpage\n",
      "[youtube] TUglN9EvnvI: Downloading webpage\n",
      "[youtube] e94hCLHEEsk: Downloading webpage\n",
      "[youtube] TUglN9EvnvI: Downloading ios player API JSON\n",
      "[youtube] xKIdiGjQO0c: Downloading ios player API JSON\n",
      "[youtube] qlXoh54zock: Downloading ios player API JSON\n",
      "[youtube] ff5lO8TkVX8: Downloading ios player API JSON\n",
      "[youtube] e94hCLHEEsk: Downloading ios player API JSON\n",
      "[youtube] TUglN9EvnvI: Downloading mweb player API JSON\n",
      "[youtube] xKIdiGjQO0c: Downloading mweb player API JSON\n",
      "[youtube] qlXoh54zock: Downloading mweb player API JSON\n",
      "[youtube] ff5lO8TkVX8: Downloading mweb player API JSON\n",
      "[youtube] e94hCLHEEsk: Downloading mweb player API JSON\n",
      "[youtube] TUglN9EvnvI: Downloading m3u8 information\n",
      "[youtube] xKIdiGjQO0c: Downloading m3u8 information\n",
      "[info] TUglN9EvnvI: Downloading 1 format(s): 251\n",
      "[youtube] qlXoh54zock: Downloading m3u8 information\n",
      "[download] Destination: c:\\Users\\Suporte\\Desktop\\UFC - 2024.2\\AMAP\\Projeto Final\\amaprob_final\\data\\raw\\Ultimate Lo-Fi Playlist 🎵 10 Hours of Chill & Relaxing Beats for Study & Focus.webm\n",
      "[download]   0.0% of  569.16MiB at   40.27KiB/s ETA 04:01:11[info] xKIdiGjQO0c: Downloading 1 format(s): 251\n",
      "[youtube] e94hCLHEEsk: Downloading m3u8 information\n",
      "[youtube] ff5lO8TkVX8: Downloading m3u8 information\n",
      "[download]   0.0% of  569.16MiB at  104.38KiB/s ETA 01:33:03[info] qlXoh54zock: Downloading 1 format(s): 251\n",
      "[download]   0.2% of  569.16MiB at    1.28MiB/s ETA 07:24   [download] Destination: c:\\Users\\Suporte\\Desktop\\UFC - 2024.2\\AMAP\\Projeto Final\\amaprob_final\\data\\raw\\Happy 2 C U - Lofi Hip Hop Mix 10 HOURS.webm\n",
      "[download]   0.0% of  606.54MiB at    6.15MiB/s ETA 01:38[download] Destination: c:\\Users\\Suporte\\Desktop\\UFC - 2024.2\\AMAP\\Projeto Final\\amaprob_final\\data\\raw\\Night lullaby  - lofi hip hop mix 10 HOURS.webm\n",
      "[download]   1.4% of  569.16MiB at    6.99MiB/s ETA 01:20[info] e94hCLHEEsk: Downloading 1 format(s): 251\n",
      "[info] ff5lO8TkVX8: Downloading 1 format(s): 251\n",
      "[download]   1.7% of  569.16MiB at  Unknown B/s ETA Unknown[download] Destination: c:\\Users\\Suporte\\Desktop\\UFC - 2024.2\\AMAP\\Projeto Final\\amaprob_final\\data\\raw\\Peaceful night on the rooftop with my cat • Lofi Hip Hop Mix 🐾 Chill Beats To Relax ⧸ Study To.webm\n",
      "[download]   1.8% of  569.16MiB at    8.55MiB/s ETA 01:05  [download] Destination: c:\\Users\\Suporte\\Desktop\\UFC - 2024.2\\AMAP\\Projeto Final\\amaprob_final\\data\\raw\\ＳＬＥＥＰＹ 💤 Lofi hip hop mix - Beats to sleep⧸chill to ｜ Deep Sleeping Music.webm\n",
      "[download] 100% of  569.16MiB in 00:00:55 at 10.30MiB/s     \n",
      "[download]  80.6% of  606.54MiB at    7.09MiB/s ETA 00:16  [ExtractAudio] Destination: c:\\Users\\Suporte\\Desktop\\UFC - 2024.2\\AMAP\\Projeto Final\\amaprob_final\\data\\raw\\Ultimate Lo-Fi Playlist 🎵 10 Hours of Chill & Relaxing Beats for Study & Focus.wav\n",
      "[download] 100% of  606.54MiB in 00:01:05 at 9.24MiB/s      \n",
      "[download]  79.9% of  720.37MiB at    5.24MiB/s ETA 00:27[ExtractAudio] Destination: c:\\Users\\Suporte\\Desktop\\UFC - 2024.2\\AMAP\\Projeto Final\\amaprob_final\\data\\raw\\Happy 2 C U - Lofi Hip Hop Mix 10 HOURS.wav\n",
      "[download] 100% of  623.34MiB in 00:01:07 at 9.18MiB/s     \n",
      "[ExtractAudio] Destination: c:\\Users\\Suporte\\Desktop\\UFC - 2024.2\\AMAP\\Projeto Final\\amaprob_final\\data\\raw\\Night lullaby  - lofi hip hop mix 10 HOURS.wav\n",
      "[download] 100% of  720.37MiB in 00:01:12 at 9.90MiB/s      \n",
      "[download]  55.0% of    1.30GiB at   12.24MiB/s ETA 00:48[ExtractAudio] Destination: c:\\Users\\Suporte\\Desktop\\UFC - 2024.2\\AMAP\\Projeto Final\\amaprob_final\\data\\raw\\Peaceful night on the rooftop with my cat • Lofi Hip Hop Mix 🐾 Chill Beats To Relax ⧸ Study To.wav\n",
      "[download] 100% of    1.30GiB in 00:01:32 at 14.31MiB/s    \n",
      "[ExtractAudio] Destination: c:\\Users\\Suporte\\Desktop\\UFC - 2024.2\\AMAP\\Projeto Final\\amaprob_final\\data\\raw\\ＳＬＥＥＰＹ 💤 Lofi hip hop mix - Beats to sleep⧸chill to ｜ Deep Sleeping Music.wav\n",
      "Deleting original file c:\\Users\\Suporte\\Desktop\\UFC - 2024.2\\AMAP\\Projeto Final\\amaprob_final\\data\\raw\\Ultimate Lo-Fi Playlist 🎵 10 Hours of Chill & Relaxing Beats for Study & Focus.webm (pass -k to keep)\n"
     ]
    },
    {
     "name": "stderr",
     "output_type": "stream",
     "text": [
      "Processando vídeos:  14%|█▍        | 1/7 [04:34<27:29, 274.88s/it]"
     ]
    },
    {
     "name": "stdout",
     "output_type": "stream",
     "text": [
      "[youtube] Extracting URL: https://youtu.be/5l8khj88MFQ?si=lAVaO3TbTwL7HZGJ\n",
      "[youtube] 5l8khj88MFQ: Downloading webpage\n",
      "[youtube] 5l8khj88MFQ: Downloading ios player API JSON\n",
      "[youtube] 5l8khj88MFQ: Downloading mweb player API JSON\n",
      "[youtube] 5l8khj88MFQ: Downloading m3u8 information\n",
      "[info] 5l8khj88MFQ: Downloading 1 format(s): 251\n",
      "[download] Destination: c:\\Users\\Suporte\\Desktop\\UFC - 2024.2\\AMAP\\Projeto Final\\amaprob_final\\data\\raw\\3 A.M Study Session  - [lofi hip hopchill beats]  🔥 10 HOURS 🔥.webm\n",
      "[download]  18.0% of  600.62MiB at   31.52MiB/s ETA 00:15   Deleting original file c:\\Users\\Suporte\\Desktop\\UFC - 2024.2\\AMAP\\Projeto Final\\amaprob_final\\data\\raw\\Happy 2 C U - Lofi Hip Hop Mix 10 HOURS.webm (pass -k to keep)\n",
      "[download]  45.6% of  600.62MiB at   19.40MiB/s ETA 00:16  Deleting original file c:\\Users\\Suporte\\Desktop\\UFC - 2024.2\\AMAP\\Projeto Final\\amaprob_final\\data\\raw\\Night lullaby  - lofi hip hop mix 10 HOURS.webm (pass -k to keep)\n",
      "[download]  71.3% of  600.62MiB at   34.27MiB/s ETA 00:05   "
     ]
    },
    {
     "name": "stderr",
     "output_type": "stream",
     "text": [
      "Processando vídeos:  29%|██▊       | 2/7 [05:15<11:26, 137.25s/it]"
     ]
    },
    {
     "name": "stdout",
     "output_type": "stream",
     "text": [
      "[youtube] Extracting URL: https://youtu.be/qlXoh54zock?si=Jb5_q6lA8jTe-XrV\n",
      "[youtube] qlXoh54zock: Downloading webpage\n",
      "[download]  78.0% of  600.62MiB at    2.57MiB/s ETA 00:51  [youtube] qlXoh54zock: Downloading ios player API JSON\n",
      "[download]  78.7% of  600.62MiB at   25.07MiB/s ETA 00:05[youtube] qlXoh54zock: Downloading mweb player API JSON\n",
      "[download]  81.6% of  600.62MiB at  779.65KiB/s ETA 02:25[youtube] qlXoh54zock: Downloading m3u8 information\n",
      "[download]  84.5% of  600.62MiB at   67.93KiB/s ETA 23:25[info] qlXoh54zock: Downloading 1 format(s): 251\n",
      "[download]  84.8% of  600.62MiB at    9.64MiB/s ETA 00:09[download] Destination: c:\\Users\\Suporte\\Desktop\\UFC - 2024.2\\AMAP\\Projeto Final\\amaprob_final\\data\\raw\\Night lullaby  - lofi hip hop mix 10 HOURS.webm\n",
      "[download]  88.1% of  600.62MiB at   23.21MiB/s ETA 00:03  "
     ]
    },
    {
     "name": "stderr",
     "output_type": "stream",
     "text": [
      "Processando vídeos:  43%|████▎     | 3/7 [05:26<05:18, 79.64s/it] "
     ]
    },
    {
     "name": "stdout",
     "output_type": "stream",
     "text": [
      "[download] 100% of  600.62MiB in 00:00:47 at 12.64MiB/s    \n",
      "[download]  15.5% of  623.34MiB at   13.57MiB/s ETA 00:38[ExtractAudio] Destination: c:\\Users\\Suporte\\Desktop\\UFC - 2024.2\\AMAP\\Projeto Final\\amaprob_final\\data\\raw\\3 A.M Study Session  - [lofi hip hopchill beats]  🔥 10 HOURS 🔥.wav\n",
      "[download]  31.6% of  623.34MiB at   32.95MiB/s ETA 00:12  Deleting original file c:\\Users\\Suporte\\Desktop\\UFC - 2024.2\\AMAP\\Projeto Final\\amaprob_final\\data\\raw\\Peaceful night on the rooftop with my cat • Lofi Hip Hop Mix 🐾 Chill Beats To Relax ⧸ Study To.webm (pass -k to keep)\n",
      "[download]  89.4% of  623.34MiB at  818.59KiB/s ETA 01:23  "
     ]
    },
    {
     "name": "stderr",
     "output_type": "stream",
     "text": [
      "Processando vídeos:  57%|█████▋    | 4/7 [05:52<02:54, 58.25s/it]"
     ]
    },
    {
     "name": "stdout",
     "output_type": "stream",
     "text": [
      "[download] 100% of  623.34MiB in 00:00:29 at 21.46MiB/s    \n",
      "[ExtractAudio] Destination: c:\\Users\\Suporte\\Desktop\\UFC - 2024.2\\AMAP\\Projeto Final\\amaprob_final\\data\\raw\\Night lullaby  - lofi hip hop mix 10 HOURS.wav\n",
      "Deleting original file c:\\Users\\Suporte\\Desktop\\UFC - 2024.2\\AMAP\\Projeto Final\\amaprob_final\\data\\raw\\3 A.M Study Session  - [lofi hip hopchill beats]  🔥 10 HOURS 🔥.webm (pass -k to keep)\n"
     ]
    },
    {
     "name": "stderr",
     "output_type": "stream",
     "text": [
      "Processando vídeos:  71%|███████▏  | 5/7 [08:21<03:02, 91.02s/it]"
     ]
    },
    {
     "name": "stdout",
     "output_type": "stream",
     "text": [
      "Deleting original file c:\\Users\\Suporte\\Desktop\\UFC - 2024.2\\AMAP\\Projeto Final\\amaprob_final\\data\\raw\\ＳＬＥＥＰＹ 💤 Lofi hip hop mix - Beats to sleep⧸chill to ｜ Deep Sleeping Music.webm (pass -k to keep)\n",
      "Deleting original file c:\\Users\\Suporte\\Desktop\\UFC - 2024.2\\AMAP\\Projeto Final\\amaprob_final\\data\\raw\\Night lullaby  - lofi hip hop mix 10 HOURS.webm (pass -k to keep)\n"
     ]
    },
    {
     "name": "stderr",
     "output_type": "stream",
     "text": [
      "Processando vídeos: 100%|██████████| 7/7 [09:48<00:00, 84.08s/it]"
     ]
    },
    {
     "name": "stdout",
     "output_type": "stream",
     "text": [
      "Áudios extraídos: 373 segmentos.\n",
      "Áudios extraídos: 373 segmentos.\n",
      "Áudios extraídos: 373 segmentos.\n",
      "Áudios extraídos: 373 segmentos.\n",
      "Áudios extraídos: 373 segmentos.\n",
      "Áudios extraídos: 373 segmentos.\n",
      "Áudios extraídos: 373 segmentos.\n"
     ]
    },
    {
     "name": "stderr",
     "output_type": "stream",
     "text": [
      "\n"
     ]
    }
   ],
   "source": [
    "# Lista das URLs dos vídeos\n",
    "urls = [\"https://youtu.be/qlXoh54zock?si=mJPVAGZioQxXxN32\",\n",
    "        \"https://youtu.be/xKIdiGjQO0c?si=Bj0rcugJRCNa56uE\",\n",
    "         \"https://youtu.be/TUglN9EvnvI?si=NV6PjnobnGpF563O\",\n",
    "         \"https://youtu.be/ff5lO8TkVX8?si=FJeO8KJj3MPHCW0k\",\n",
    "         \"https://www.youtube.com/live/e94hCLHEEsk?si=Viatfjausk5IPnOJ\",\n",
    "         \"https://youtu.be/5l8khj88MFQ?si=lAVaO3TbTwL7HZGJ\",\n",
    "         \"https://youtu.be/qlXoh54zock?si=Jb5_q6lA8jTe-XrV\",]\n",
    "         \n",
    "results = process_urls(urls)\n",
    "\n",
    "for result in results:\n",
    "    if isinstance(result, list):\n",
    "        print(f\"Áudios extraídos: {len(result)} segmentos.\")\n",
    "    else:\n",
    "        print(result)"
   ]
  }
 ],
 "metadata": {
  "kernelspec": {
   "display_name": "AMAP_Proj",
   "language": "python",
   "name": "python3"
  },
  "language_info": {
   "codemirror_mode": {
    "name": "ipython",
    "version": 3
   },
   "file_extension": ".py",
   "mimetype": "text/x-python",
   "name": "python",
   "nbconvert_exporter": "python",
   "pygments_lexer": "ipython3",
   "version": "3.11.10"
  }
 },
 "nbformat": 4,
 "nbformat_minor": 2
}
