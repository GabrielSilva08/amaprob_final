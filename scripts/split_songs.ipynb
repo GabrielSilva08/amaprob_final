{
 "cells": [
  {
   "cell_type": "code",
   "execution_count": 1,
   "metadata": {},
   "outputs": [],
   "source": [
    "import numpy as np\n",
    "import scipy.io.wavfile as wav\n",
    "import sys\n",
    "sys.path.append('..')\n",
    "import librosa"
   ]
  },
  {
   "cell_type": "code",
   "execution_count": 2,
   "metadata": {},
   "outputs": [],
   "source": [
    "import soundfile as sf"
   ]
  },
  {
   "cell_type": "code",
   "execution_count": 25,
   "metadata": {},
   "outputs": [],
   "source": [
    "sig, rate = librosa.load(f'/home/diego/Documents/UFC/20242/amaprob_final/data/0000.wav', mono=True)"
   ]
  },
  {
   "cell_type": "code",
   "execution_count": 26,
   "metadata": {},
   "outputs": [],
   "source": [
    "sig = librosa.resample(sig, orig_sr=rate, target_sr=3000)"
   ]
  },
  {
   "cell_type": "code",
   "execution_count": 27,
   "metadata": {},
   "outputs": [],
   "source": [
    "sf.write(f'/home/diego/Documents/UFC/20242/amaprob_final/scripts/test.wav', sig, 3001, 'PCM_24')"
   ]
  },
  {
   "cell_type": "markdown",
   "metadata": {},
   "source": [
    "240000"
   ]
  },
  {
   "cell_type": "code",
   "execution_count": 3,
   "metadata": {},
   "outputs": [],
   "source": [
    "SECOND_LENGTH = 24000"
   ]
  },
  {
   "cell_type": "code",
   "execution_count": 8,
   "metadata": {},
   "outputs": [],
   "source": [
    "def split(c):\n",
    "    sig, rate = librosa.load(f'/home/diego/Documents/UFC/20242/amaprob_final/raw_data/{c}.wav', mono=True)\n",
    "    maximum = sig.shape[0]\n",
    "\n",
    "    initial = SECOND_LENGTH*30\n",
    "    final = SECOND_LENGTH*40\n",
    "    i = 0\n",
    "\n",
    "    print('começou')\n",
    "    while True:\n",
    "        if final > maximum:\n",
    "            print('parou')\n",
    "            break\n",
    "        a = sig[initial:final]\n",
    "        initial += SECOND_LENGTH*60\n",
    "        final += SECOND_LENGTH*60\n",
    "        sf.write(f'/home/diego/Documents/UFC/20242/amaprob_final/data/{c}{i:03d}.wav', a, rate, 'PCM_24')\n",
    "        i += 1\n"
   ]
  },
  {
   "cell_type": "code",
   "execution_count": 10,
   "metadata": {},
   "outputs": [
    {
     "name": "stdout",
     "output_type": "stream",
     "text": [
      "começou\n",
      "parou\n",
      "começou\n",
      "parou\n",
      "começou\n",
      "parou\n",
      "começou\n",
      "parou\n",
      "começou\n",
      "parou\n",
      "começou\n",
      "parou\n",
      "começou\n",
      "parou\n",
      "começou\n",
      "parou\n"
     ]
    }
   ],
   "source": [
    "remaining = ['B', 'C', 'D', 'E', 'F', 'G', 'H', 'I']\n",
    "for r in remaining:\n",
    "    split(r)"
   ]
  },
  {
   "cell_type": "code",
   "execution_count": 30,
   "metadata": {},
   "outputs": [],
   "source": [
    "initial = SECOND_LENGTH*30\n",
    "final = SECOND_LENGTH*40\n",
    "i = 0\n",
    "\n",
    "for i in range(342):\n",
    "    a = sig[initial:final]\n",
    "    initial += SECOND_LENGTH*60\n",
    "    final += SECOND_LENGTH*60\n",
    "    sf.write(f'/home/diego/Documents/UFC/20242/amaprob_final/data/5{i:03d}.wav', a, rate, 'PCM_24')\n"
   ]
  },
  {
   "cell_type": "code",
   "execution_count": 3,
   "metadata": {},
   "outputs": [],
   "source": [
    "a = sig[:24000]"
   ]
  },
  {
   "cell_type": "code",
   "execution_count": 4,
   "metadata": {},
   "outputs": [],
   "source": [
    "import soundfile as sf"
   ]
  },
  {
   "cell_type": "code",
   "execution_count": 5,
   "metadata": {},
   "outputs": [],
   "source": [
    "sf.write('a.wav', a, rate, 'PCM_24')"
   ]
  },
  {
   "cell_type": "code",
   "execution_count": null,
   "metadata": {},
   "outputs": [],
   "source": []
  }
 ],
 "metadata": {
  "kernelspec": {
   "display_name": "amaprob",
   "language": "python",
   "name": "python3"
  },
  "language_info": {
   "codemirror_mode": {
    "name": "ipython",
    "version": 3
   },
   "file_extension": ".py",
   "mimetype": "text/x-python",
   "name": "python",
   "nbconvert_exporter": "python",
   "pygments_lexer": "ipython3",
   "version": "3.11.10"
  }
 },
 "nbformat": 4,
 "nbformat_minor": 2
}
