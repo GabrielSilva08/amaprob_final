{
 "cells": [
  {
   "cell_type": "code",
   "execution_count": 1,
   "metadata": {},
   "outputs": [],
   "source": [
    "import yt_dlp\n",
    "from yt_dlp.utils import download_range_func\n",
    "from pytube import Playlist\n",
    "import os\n",
    "import glob\n",
    "import sys"
   ]
  },
  {
   "cell_type": "code",
   "execution_count": 2,
   "metadata": {},
   "outputs": [],
   "source": [
    "sys.path.append('..')"
   ]
  },
  {
   "cell_type": "code",
   "execution_count": 3,
   "metadata": {},
   "outputs": [],
   "source": [
    "class PlaylistDownloader:\n",
    "    def __init__(self) -> None:\n",
    "        pass\n",
    "\n",
    "\n",
    "    def download_playlist(self, urls: str, path: str, initial: int, final: int) -> None:\n",
    "        for idx, url in enumerate(urls):\n",
    "            self.__download_audio(url, path, f'{idx:03d}', initial, final)\n",
    "\n",
    "\n",
    "    def __download_audio(self, url: str, path: str, filename: str, initial: int, final: int) -> None:\n",
    "        ydl_opts = {\n",
    "            'format': 'bestaudio/best',\n",
    "            'postprocessors': [{\n",
    "                'key': 'FFmpegExtractAudio',\n",
    "                'preferredcodec': 'wav',\n",
    "                'preferredquality': '192',\n",
    "            }],\n",
    "            'outtmpl': f'../{path}/{filename}'\n",
    "        }\n",
    "        \n",
    "        with yt_dlp.YoutubeDL(ydl_opts) as ydl:\n",
    "            ydl.download([url])\n",
    "    \n",
    "            \n",
    "    def __get_playlist_info(self, pl_url: str) -> dict:\n",
    "        urls = Playlist(pl_url)\n",
    "        return urls\n"
   ]
  },
  {
   "cell_type": "code",
   "execution_count": 8,
   "metadata": {},
   "outputs": [],
   "source": [
    "urls = ['https://www.youtube.com/watch?v=Jj62GtWSz-E',\n",
    "        'https://www.youtube.com/watch?v=VUQfT3gNT3g'\n",
    "        'https://www.youtube.com/watch?v=Oao2zdBuA90',\n",
    "        'https://www.youtube.com/watch?v=Cf7-3CB5sls',\n",
    "        'https://www.youtube.com/watch?v=bqhwlU8qVsk',\n",
    "        'https://www.youtube.com/watch?v=EBTsCbhwsfU',\n",
    "        'https://www.youtube.com/watch?v=jGoz8hYmfEs',\n",
    "        'https://www.youtube.com/watch?v=LfKzC0HGFDM',\n",
    "        'https://www.youtube.com/watch?v=vvThzcBfnyc'\n",
    "        'https://www.youtube.com/watch?v=Jogr898_0BE',\n",
    "        ]"
   ]
  },
  {
   "cell_type": "code",
   "execution_count": 9,
   "metadata": {},
   "outputs": [
    {
     "name": "stdout",
     "output_type": "stream",
     "text": [
      "[youtube] Extracting URL: https://www.youtube.com/watch?v=Jj62GtWSz-E\n",
      "[youtube] Jj62GtWSz-E: Downloading webpage\n",
      "[youtube] Jj62GtWSz-E: Downloading ios player API JSON\n",
      "[youtube] Jj62GtWSz-E: Downloading mweb player API JSON\n",
      "[youtube] Jj62GtWSz-E: Downloading m3u8 information\n",
      "[info] Jj62GtWSz-E: Downloading 1 format(s): 251\n",
      "[download] Destination: ../raw_data/000\n",
      "[download] 100% of  105.21MiB in 00:00:22 at 4.60MiB/s     \n",
      "[ExtractAudio] Destination: ../raw_data/000.wav\n",
      "Deleting original file ../raw_data/000 (pass -k to keep)\n",
      "[youtube] Extracting URL: https://www.youtube.com/watch?v=VUQfT3gNT3ghttps://www.youtube.com/watch?v=Oao2zdBuA90\n",
      "[youtube] VUQfT3gNT3g: Downloading webpage\n",
      "[youtube] VUQfT3gNT3g: Downloading ios player API JSON\n",
      "[youtube] VUQfT3gNT3g: Downloading mweb player API JSON\n",
      "[youtube] VUQfT3gNT3g: Downloading m3u8 information\n",
      "[info] VUQfT3gNT3g: Downloading 1 format(s): 251\n",
      "[download] Destination: ../raw_data/001\n",
      "[download] 100% of  188.70MiB in 00:00:23 at 8.07MiB/s     \n",
      "[ExtractAudio] Destination: ../raw_data/001.wav\n",
      "Deleting original file ../raw_data/001 (pass -k to keep)\n",
      "[youtube] Extracting URL: https://www.youtube.com/watch?v=Cf7-3CB5sls\n",
      "[youtube] Cf7-3CB5sls: Downloading webpage\n",
      "[youtube] Cf7-3CB5sls: Downloading ios player API JSON\n",
      "[youtube] Cf7-3CB5sls: Downloading mweb player API JSON\n",
      "[youtube] Cf7-3CB5sls: Downloading m3u8 information\n",
      "[info] Cf7-3CB5sls: Downloading 1 format(s): 251\n",
      "[download] Destination: ../raw_data/002\n",
      "[download] 100% of  743.17MiB in 00:01:58 at 6.27MiB/s      \n",
      "[ExtractAudio] Destination: ../raw_data/002.wav\n",
      "Deleting original file ../raw_data/002 (pass -k to keep)\n",
      "[youtube] Extracting URL: https://www.youtube.com/watch?v=bqhwlU8qVsk\n",
      "[youtube] bqhwlU8qVsk: Downloading webpage\n",
      "[youtube] bqhwlU8qVsk: Downloading ios player API JSON\n",
      "[youtube] bqhwlU8qVsk: Downloading mweb player API JSON\n",
      "[youtube] bqhwlU8qVsk: Downloading m3u8 information\n",
      "[info] bqhwlU8qVsk: Downloading 1 format(s): 251\n",
      "[download] Destination: ../raw_data/003\n",
      "[download] 100% of  766.52MiB in 00:01:30 at 8.45MiB/s      \n",
      "[ExtractAudio] Destination: ../raw_data/003.wav\n",
      "Deleting original file ../raw_data/003 (pass -k to keep)\n",
      "[youtube] Extracting URL: https://www.youtube.com/watch?v=EBTsCbhwsfU\n",
      "[youtube] EBTsCbhwsfU: Downloading webpage\n",
      "[youtube] EBTsCbhwsfU: Downloading ios player API JSON\n",
      "[youtube] EBTsCbhwsfU: Downloading mweb player API JSON\n",
      "[youtube] EBTsCbhwsfU: Downloading m3u8 information\n",
      "[info] EBTsCbhwsfU: Downloading 1 format(s): 251\n",
      "[download] Destination: ../raw_data/004\n",
      "[download] 100% of  663.80MiB in 00:02:40 at 4.12MiB/s      \n",
      "[ExtractAudio] Destination: ../raw_data/004.wav\n",
      "Deleting original file ../raw_data/004 (pass -k to keep)\n",
      "[youtube] Extracting URL: https://www.youtube.com/watch?v=jGoz8hYmfEs\n",
      "[youtube] jGoz8hYmfEs: Downloading webpage\n",
      "[youtube] jGoz8hYmfEs: Downloading ios player API JSON\n",
      "[youtube] jGoz8hYmfEs: Downloading mweb player API JSON\n",
      "[youtube] jGoz8hYmfEs: Downloading m3u8 information\n",
      "[info] jGoz8hYmfEs: Downloading 1 format(s): 251\n",
      "[download] Destination: ../raw_data/005\n",
      "[download] 100% of  740.59MiB in 00:01:47 at 6.90MiB/s      \n",
      "[ExtractAudio] Destination: ../raw_data/005.wav\n",
      "Deleting original file ../raw_data/005 (pass -k to keep)\n",
      "[youtube] Extracting URL: https://www.youtube.com/watch?v=LfKzC0HGFDM\n",
      "[youtube] LfKzC0HGFDM: Downloading webpage\n",
      "[youtube] LfKzC0HGFDM: Downloading ios player API JSON\n",
      "[youtube] LfKzC0HGFDM: Downloading mweb player API JSON\n",
      "[youtube] LfKzC0HGFDM: Downloading m3u8 information\n",
      "[info] LfKzC0HGFDM: Downloading 1 format(s): 251\n",
      "[download] Destination: ../raw_data/006\n",
      "[download] 100% of  740.13MiB in 00:01:41 at 7.28MiB/s      \n",
      "[ExtractAudio] Destination: ../raw_data/006.wav\n",
      "Deleting original file ../raw_data/006 (pass -k to keep)\n",
      "[youtube] Extracting URL: https://www.youtube.com/watch?v=vvThzcBfnychttps://www.youtube.com/watch?v=Jogr898_0BE\n",
      "[youtube] vvThzcBfnyc: Downloading webpage\n",
      "[youtube] vvThzcBfnyc: Downloading ios player API JSON\n",
      "[youtube] vvThzcBfnyc: Downloading mweb player API JSON\n",
      "[youtube] vvThzcBfnyc: Downloading m3u8 information\n",
      "[info] vvThzcBfnyc: Downloading 1 format(s): 251\n",
      "[download] Destination: ../raw_data/007\n",
      "[download] 100% of  501.03MiB in 00:01:10 at 7.06MiB/s      \n",
      "[ExtractAudio] Destination: ../raw_data/007.wav\n",
      "Deleting original file ../raw_data/007 (pass -k to keep)\n"
     ]
    }
   ],
   "source": [
    "pd = PlaylistDownloader()\n",
    "pd.download_playlist(urls, 'raw_data', 30, 31)"
   ]
  },
  {
   "cell_type": "code",
   "execution_count": null,
   "metadata": {},
   "outputs": [],
   "source": []
  }
 ],
 "metadata": {
  "kernelspec": {
   "display_name": "amaprob",
   "language": "python",
   "name": "python3"
  },
  "language_info": {
   "codemirror_mode": {
    "name": "ipython",
    "version": 3
   },
   "file_extension": ".py",
   "mimetype": "text/x-python",
   "name": "python",
   "nbconvert_exporter": "python",
   "pygments_lexer": "ipython3",
   "version": "3.11.10"
  }
 },
 "nbformat": 4,
 "nbformat_minor": 2
}
