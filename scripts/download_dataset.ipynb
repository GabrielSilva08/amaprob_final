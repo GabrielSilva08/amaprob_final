{
 "cells": [
  {
   "cell_type": "code",
   "execution_count": 39,
   "metadata": {},
   "outputs": [],
   "source": [
    "import yt_dlp\n",
    "from yt_dlp.utils import download_range_func\n",
    "from pytube import Playlist\n",
    "from pydub import AudioSegment\n",
    "import os\n",
    "import glob\n",
    "import sys"
   ]
  },
  {
   "cell_type": "code",
   "execution_count": 8,
   "metadata": {},
   "outputs": [],
   "source": [
    "sys.path.append('..')"
   ]
  },
  {
   "cell_type": "code",
   "execution_count": 65,
   "metadata": {},
   "outputs": [],
   "source": [
    "class PlaylistDownloader:\n",
    "    def __init__(self) -> None:\n",
    "        pass\n",
    "\n",
    "\n",
    "    def download_playlist(self, url: str, path: str, initial: int, final: int) -> None:\n",
    "        urls = self.__get_playlist_info(url)\n",
    "        for idx, url in enumerate(urls):\n",
    "            self.__download_audio(url, path, f'{idx:03d}', initial, final)\n",
    "\n",
    "\n",
    "    def __download_audio(self, url: str, path: str, filename: str, initial: int, final: int) -> None:\n",
    "        ydl_opts = {\n",
    "            'format': 'bestaudio/best',\n",
    "            'postprocessors': [{\n",
    "                'key': 'FFmpegExtractAudio',\n",
    "                'preferredcodec': 'mp3',\n",
    "                'preferredquality': '192',\n",
    "            }],\n",
    "            'download_ranges': download_range_func(None, [(initial, final)]),\n",
    "            'outtmpl': f'../{path}/{filename}'\n",
    "        }\n",
    "        \n",
    "        with yt_dlp.YoutubeDL(ydl_opts) as ydl:\n",
    "            ydl.download([url])\n",
    "    \n",
    "            \n",
    "    def __get_playlist_info(self, pl_url: str) -> dict:\n",
    "        urls = Playlist(pl_url)\n",
    "        return urls\n"
   ]
  },
  {
   "cell_type": "code",
   "execution_count": null,
   "metadata": {},
   "outputs": [],
   "source": [
    "pd = PlaylistDownloader()\n",
    "pd.download_playlist('https://www.youtube.com/playlist?list=PLllBPRzasxalS3NQogQMSIGJuL7_05Mz9', 'data', 30, 50)"
   ]
  }
 ],
 "metadata": {
  "kernelspec": {
   "display_name": "amaprob",
   "language": "python",
   "name": "python3"
  },
  "language_info": {
   "codemirror_mode": {
    "name": "ipython",
    "version": 3
   },
   "file_extension": ".py",
   "mimetype": "text/x-python",
   "name": "python",
   "nbconvert_exporter": "python",
   "pygments_lexer": "ipython3",
   "version": "3.11.10"
  }
 },
 "nbformat": 4,
 "nbformat_minor": 2
}
